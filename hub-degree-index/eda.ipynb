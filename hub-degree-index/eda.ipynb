{
 "cells": [
  {
   "cell_type": "code",
   "execution_count": 21,
   "metadata": {},
   "outputs": [],
   "source": [
    "import pandas as pd\n",
    "import numpy as np\n",
    "from tqdm import tqdm"
   ]
  },
  {
   "cell_type": "code",
   "execution_count": 22,
   "metadata": {},
   "outputs": [],
   "source": [
    "degree_index = pd.read_csv(\"../data/degree_index.csv\")\n",
    "all_stops = pd.read_csv(\"../data/hcmc_bus_stops_information.csv\")\n",
    "all_hub_nodes = pd.read_csv(\"../data/hub_nodes_information.csv\")"
   ]
  },
  {
   "cell_type": "code",
   "execution_count": 23,
   "metadata": {},
   "outputs": [
    {
     "name": "stdout",
     "output_type": "stream",
     "text": [
      "<class 'pandas.core.frame.DataFrame'>\n",
      "RangeIndex: 4414 entries, 0 to 4413\n",
      "Data columns (total 3 columns):\n",
      " #   Column   Non-Null Count  Dtype\n",
      "---  ------   --------------  -----\n",
      " 0   StopId   4414 non-null   int64\n",
      " 1   Degree   4414 non-null   int64\n",
      " 2   H_index  4414 non-null   int64\n",
      "dtypes: int64(3)\n",
      "memory usage: 103.6 KB\n"
     ]
    }
   ],
   "source": [
    "degree_index.info()"
   ]
  },
  {
   "cell_type": "code",
   "execution_count": 24,
   "metadata": {},
   "outputs": [
    {
     "name": "stdout",
     "output_type": "stream",
     "text": [
      "<class 'pandas.core.frame.DataFrame'>\n",
      "RangeIndex: 4414 entries, 0 to 4413\n",
      "Data columns (total 9 columns):\n",
      " #   Column    Non-Null Count  Dtype  \n",
      "---  ------    --------------  -----  \n",
      " 0   StopId    4414 non-null   int64  \n",
      " 1   Code      4414 non-null   object \n",
      " 2   Name      4414 non-null   object \n",
      " 3   StopType  4414 non-null   object \n",
      " 4   Zone      4414 non-null   object \n",
      " 5   Street    4414 non-null   object \n",
      " 6   Lng       4414 non-null   float64\n",
      " 7   Lat       4414 non-null   float64\n",
      " 8   Routes    4414 non-null   object \n",
      "dtypes: float64(2), int64(1), object(6)\n",
      "memory usage: 310.5+ KB\n"
     ]
    }
   ],
   "source": [
    "all_stops.info()"
   ]
  },
  {
   "cell_type": "code",
   "execution_count": 25,
   "metadata": {},
   "outputs": [
    {
     "name": "stdout",
     "output_type": "stream",
     "text": [
      "<class 'pandas.core.frame.DataFrame'>\n",
      "RangeIndex: 1005 entries, 0 to 1004\n",
      "Data columns (total 10 columns):\n",
      " #   Column    Non-Null Count  Dtype  \n",
      "---  ------    --------------  -----  \n",
      " 0   HubId     1005 non-null   int64  \n",
      " 1   StopId    1005 non-null   int64  \n",
      " 2   Code      1005 non-null   object \n",
      " 3   Name      1005 non-null   object \n",
      " 4   StopType  1005 non-null   object \n",
      " 5   Zone      1005 non-null   object \n",
      " 6   Street    1005 non-null   object \n",
      " 7   Lng       1005 non-null   float64\n",
      " 8   Lat       1005 non-null   float64\n",
      " 9   Routes    1005 non-null   object \n",
      "dtypes: float64(2), int64(2), object(6)\n",
      "memory usage: 78.6+ KB\n"
     ]
    }
   ],
   "source": [
    "all_hub_nodes.info()"
   ]
  },
  {
   "cell_type": "code",
   "execution_count": 26,
   "metadata": {},
   "outputs": [
    {
     "data": {
      "text/html": [
       "<div>\n",
       "<style scoped>\n",
       "    .dataframe tbody tr th:only-of-type {\n",
       "        vertical-align: middle;\n",
       "    }\n",
       "\n",
       "    .dataframe tbody tr th {\n",
       "        vertical-align: top;\n",
       "    }\n",
       "\n",
       "    .dataframe thead th {\n",
       "        text-align: right;\n",
       "    }\n",
       "</style>\n",
       "<table border=\"1\" class=\"dataframe\">\n",
       "  <thead>\n",
       "    <tr style=\"text-align: right;\">\n",
       "      <th></th>\n",
       "      <th>StopId</th>\n",
       "      <th>Degree</th>\n",
       "      <th>H_index</th>\n",
       "    </tr>\n",
       "  </thead>\n",
       "  <tbody>\n",
       "    <tr>\n",
       "      <th>count</th>\n",
       "      <td>4414.000000</td>\n",
       "      <td>4414.000000</td>\n",
       "      <td>4414.000000</td>\n",
       "    </tr>\n",
       "    <tr>\n",
       "      <th>mean</th>\n",
       "      <td>2742.280471</td>\n",
       "      <td>2.439058</td>\n",
       "      <td>1.684866</td>\n",
       "    </tr>\n",
       "    <tr>\n",
       "      <th>std</th>\n",
       "      <td>2017.651103</td>\n",
       "      <td>0.974767</td>\n",
       "      <td>0.519864</td>\n",
       "    </tr>\n",
       "    <tr>\n",
       "      <th>min</th>\n",
       "      <td>1.000000</td>\n",
       "      <td>1.000000</td>\n",
       "      <td>1.000000</td>\n",
       "    </tr>\n",
       "    <tr>\n",
       "      <th>25%</th>\n",
       "      <td>1174.250000</td>\n",
       "      <td>2.000000</td>\n",
       "      <td>1.000000</td>\n",
       "    </tr>\n",
       "    <tr>\n",
       "      <th>50%</th>\n",
       "      <td>2437.500000</td>\n",
       "      <td>2.000000</td>\n",
       "      <td>2.000000</td>\n",
       "    </tr>\n",
       "    <tr>\n",
       "      <th>75%</th>\n",
       "      <td>3682.750000</td>\n",
       "      <td>3.000000</td>\n",
       "      <td>2.000000</td>\n",
       "    </tr>\n",
       "    <tr>\n",
       "      <th>max</th>\n",
       "      <td>7829.000000</td>\n",
       "      <td>14.000000</td>\n",
       "      <td>5.000000</td>\n",
       "    </tr>\n",
       "  </tbody>\n",
       "</table>\n",
       "</div>"
      ],
      "text/plain": [
       "            StopId       Degree      H_index\n",
       "count  4414.000000  4414.000000  4414.000000\n",
       "mean   2742.280471     2.439058     1.684866\n",
       "std    2017.651103     0.974767     0.519864\n",
       "min       1.000000     1.000000     1.000000\n",
       "25%    1174.250000     2.000000     1.000000\n",
       "50%    2437.500000     2.000000     2.000000\n",
       "75%    3682.750000     3.000000     2.000000\n",
       "max    7829.000000    14.000000     5.000000"
      ]
     },
     "execution_count": 26,
     "metadata": {},
     "output_type": "execute_result"
    }
   ],
   "source": [
    "degree_index.describe()"
   ]
  },
  {
   "cell_type": "markdown",
   "metadata": {},
   "source": [
    "-kiem tra degree va h-index cua cac hub\n",
    "-tuong quan giua hub va degree"
   ]
  },
  {
   "cell_type": "code",
   "execution_count": 27,
   "metadata": {},
   "outputs": [],
   "source": [
    "temp =pd.merge(all_hub_nodes, degree_index, on='StopId', how='inner')"
   ]
  },
  {
   "cell_type": "code",
   "execution_count": 29,
   "metadata": {},
   "outputs": [
    {
     "data": {
      "text/html": [
       "<div>\n",
       "<style scoped>\n",
       "    .dataframe tbody tr th:only-of-type {\n",
       "        vertical-align: middle;\n",
       "    }\n",
       "\n",
       "    .dataframe tbody tr th {\n",
       "        vertical-align: top;\n",
       "    }\n",
       "\n",
       "    .dataframe thead th {\n",
       "        text-align: right;\n",
       "    }\n",
       "</style>\n",
       "<table border=\"1\" class=\"dataframe\">\n",
       "  <thead>\n",
       "    <tr style=\"text-align: right;\">\n",
       "      <th></th>\n",
       "      <th>HubId</th>\n",
       "      <th>StopId</th>\n",
       "      <th>Lng</th>\n",
       "      <th>Lat</th>\n",
       "      <th>Degree</th>\n",
       "      <th>H_index</th>\n",
       "    </tr>\n",
       "  </thead>\n",
       "  <tbody>\n",
       "    <tr>\n",
       "      <th>count</th>\n",
       "      <td>1005.000000</td>\n",
       "      <td>1005.000000</td>\n",
       "      <td>1005.000000</td>\n",
       "      <td>1005.000000</td>\n",
       "      <td>1005.000000</td>\n",
       "      <td>1005.000000</td>\n",
       "    </tr>\n",
       "    <tr>\n",
       "      <th>mean</th>\n",
       "      <td>502.000000</td>\n",
       "      <td>2104.180100</td>\n",
       "      <td>106.672597</td>\n",
       "      <td>10.795833</td>\n",
       "      <td>3.699502</td>\n",
       "      <td>1.915423</td>\n",
       "    </tr>\n",
       "    <tr>\n",
       "      <th>std</th>\n",
       "      <td>290.262812</td>\n",
       "      <td>1949.251761</td>\n",
       "      <td>0.087869</td>\n",
       "      <td>0.092698</td>\n",
       "      <td>1.327479</td>\n",
       "      <td>0.522226</td>\n",
       "    </tr>\n",
       "    <tr>\n",
       "      <th>min</th>\n",
       "      <td>0.000000</td>\n",
       "      <td>1.000000</td>\n",
       "      <td>106.087836</td>\n",
       "      <td>10.350457</td>\n",
       "      <td>1.000000</td>\n",
       "      <td>1.000000</td>\n",
       "    </tr>\n",
       "    <tr>\n",
       "      <th>25%</th>\n",
       "      <td>251.000000</td>\n",
       "      <td>638.000000</td>\n",
       "      <td>106.626075</td>\n",
       "      <td>10.755360</td>\n",
       "      <td>3.000000</td>\n",
       "      <td>2.000000</td>\n",
       "    </tr>\n",
       "    <tr>\n",
       "      <th>50%</th>\n",
       "      <td>502.000000</td>\n",
       "      <td>1516.000000</td>\n",
       "      <td>106.675444</td>\n",
       "      <td>10.789466</td>\n",
       "      <td>3.000000</td>\n",
       "      <td>2.000000</td>\n",
       "    </tr>\n",
       "    <tr>\n",
       "      <th>75%</th>\n",
       "      <td>753.000000</td>\n",
       "      <td>2707.000000</td>\n",
       "      <td>106.712608</td>\n",
       "      <td>10.845566</td>\n",
       "      <td>4.000000</td>\n",
       "      <td>2.000000</td>\n",
       "    </tr>\n",
       "    <tr>\n",
       "      <th>max</th>\n",
       "      <td>1004.000000</td>\n",
       "      <td>7829.000000</td>\n",
       "      <td>107.217992</td>\n",
       "      <td>11.309938</td>\n",
       "      <td>14.000000</td>\n",
       "      <td>5.000000</td>\n",
       "    </tr>\n",
       "  </tbody>\n",
       "</table>\n",
       "</div>"
      ],
      "text/plain": [
       "             HubId       StopId          Lng          Lat       Degree  \\\n",
       "count  1005.000000  1005.000000  1005.000000  1005.000000  1005.000000   \n",
       "mean    502.000000  2104.180100   106.672597    10.795833     3.699502   \n",
       "std     290.262812  1949.251761     0.087869     0.092698     1.327479   \n",
       "min       0.000000     1.000000   106.087836    10.350457     1.000000   \n",
       "25%     251.000000   638.000000   106.626075    10.755360     3.000000   \n",
       "50%     502.000000  1516.000000   106.675444    10.789466     3.000000   \n",
       "75%     753.000000  2707.000000   106.712608    10.845566     4.000000   \n",
       "max    1004.000000  7829.000000   107.217992    11.309938    14.000000   \n",
       "\n",
       "           H_index  \n",
       "count  1005.000000  \n",
       "mean      1.915423  \n",
       "std       0.522226  \n",
       "min       1.000000  \n",
       "25%       2.000000  \n",
       "50%       2.000000  \n",
       "75%       2.000000  \n",
       "max       5.000000  "
      ]
     },
     "execution_count": 29,
     "metadata": {},
     "output_type": "execute_result"
    }
   ],
   "source": [
    "temp.describe()"
   ]
  }
 ],
 "metadata": {
  "kernelspec": {
   "display_name": "Python 3",
   "language": "python",
   "name": "python3"
  },
  "language_info": {
   "codemirror_mode": {
    "name": "ipython",
    "version": 3
   },
   "file_extension": ".py",
   "mimetype": "text/x-python",
   "name": "python",
   "nbconvert_exporter": "python",
   "pygments_lexer": "ipython3",
   "version": "3.10.1"
  }
 },
 "nbformat": 4,
 "nbformat_minor": 2
}
